{
 "cells": [
  {
   "cell_type": "code",
   "execution_count": 3,
   "id": "d0b90bbd",
   "metadata": {},
   "outputs": [
    {
     "name": "stdout",
     "output_type": "stream",
     "text": [
      "Missing values count:\n",
      " Height           0\n",
      "Weight           0\n",
      "Age              0\n",
      "Grip strength    0\n",
      "Frailty          0\n",
      "dtype: int64\n"
     ]
    }
   ],
   "source": [
    "import pandas as pd\n",
    "\n",
    "df = pd.read_csv('../Raw_Data/raw_participants_data.csv')\n",
    "\n",
    "missing_values_count = df.isnull().sum()\n",
    "print(\"Missing values count:\\n\", missing_values_count)\n",
    "\n",
    "df_cleaned = df.dropna()\n",
    "\n",
    "df_cleaned['Frailty'] = df_cleaned['Frailty'].map({'N': 0, 'Y': 1})\n",
    "\n",
    "df_cleaned.to_csv('../Clean_Data/cleaned_data.csv', index=False)\n"
   ]
  },
  {
   "cell_type": "code",
   "execution_count": null,
   "id": "6fa3437e",
   "metadata": {},
   "outputs": [],
   "source": []
  }
 ],
 "metadata": {
  "kernelspec": {
   "display_name": "Python 3 (ipykernel)",
   "language": "python",
   "name": "python3"
  },
  "language_info": {
   "codemirror_mode": {
    "name": "ipython",
    "version": 3
   },
   "file_extension": ".py",
   "mimetype": "text/x-python",
   "name": "python",
   "nbconvert_exporter": "python",
   "pygments_lexer": "ipython3",
   "version": "3.11.5"
  }
 },
 "nbformat": 4,
 "nbformat_minor": 5
}
